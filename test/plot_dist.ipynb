{
 "cells": [
  {
   "cell_type": "code",
   "execution_count": 16,
   "metadata": {},
   "outputs": [],
   "source": [
    "import pandas as pd\n",
    "import numpy as np\n",
    "import matplotlib.pyplot as plt"
   ]
  },
  {
   "cell_type": "code",
   "execution_count": 17,
   "metadata": {},
   "outputs": [],
   "source": [
    "df = pd.read_csv('./mavlink_local_position_ned_t.csv')\n",
    "df['date_time'] = pd.to_datetime(df['Time'])\n",
    "df['unix_time'] = df['date_time'].apply(lambda x: x.timestamp())\n",
    "df['rel_time'] = df['unix_time'].apply(lambda x: x - df['unix_time'][0])"
   ]
  },
  {
   "cell_type": "code",
   "execution_count": 18,
   "metadata": {},
   "outputs": [],
   "source": [
    "#TODO: Figure out which formula is more accurate\n",
    "\n",
    "# Calculate distance in each direction\n",
    "df['distance_x'] = np.sqrt((df['x']-df['x'][0])**2)\n",
    "df['distance_y'] = np.sqrt((df['y']-df['y'][0])**2)\n",
    "df['distance_z'] = np.sqrt((df['z']-df['z'][0])**2)\n",
    "# df['distance_x'] = np.sqrt(df['x']**2)\n",
    "# df['distance_y'] = np.sqrt(df['y']**2)\n",
    "# df['distance_z'] = np.sqrt(df['z']**2)\n",
    "\n",
    "# Calculate total distance\n",
    "df['total_distance'] = np.sqrt((df['x']-df['x'][0])**2 + (df['y']-df['y'][0])**2 + (df['z']-df['z'][0])**2)\n",
    "# df['total_distance'] = np.sqrt(df['x']**2 + df['y']**2 + df['z']**2)"
   ]
  },
  {
   "cell_type": "code",
   "execution_count": 19,
   "metadata": {},
   "outputs": [],
   "source": [
    "plt.figure(figsize=(10, 6))\n",
    "\n",
    "plt.plot(df['Time'], df['distance_x'], label='Distance X')\n",
    "plt.plot(df['Time'], df['distance_y'], label='Distance Y')\n",
    "plt.plot(df['Time'], df['distance_z'], label='Distance Z')\n",
    "\n",
    "plt.xlabel('Time')\n",
    "plt.ylabel('Distance')\n",
    "plt.title('Drone Distance in Individual Directions')\n",
    "plt.legend()\n",
    "plt.grid(True)\n",
    "\n",
    "plt.show()"
   ]
  },
  {
   "cell_type": "code",
   "execution_count": null,
   "metadata": {},
   "outputs": [],
   "source": [
    "plt.figure(figsize=(10, 6))\n",
    "\n",
    "plt.plot(df['Time'], df['total_distance'], label='Total Distance')\n",
    "\n",
    "plt.xlabel('Time')\n",
    "plt.ylabel('Total Distance')\n",
    "plt.title('Total Drone Distance from Start')\n",
    "plt.legend()\n",
    "plt.grid(True)\n",
    "\n",
    "plt.show()\n"
   ]
  }
 ],
 "metadata": {
  "kernelspec": {
   "display_name": "Python 3",
   "language": "python",
   "name": "python3"
  },
  "language_info": {
   "codemirror_mode": {
    "name": "ipython",
    "version": 3
   },
   "file_extension": ".py",
   "mimetype": "text/x-python",
   "name": "python",
   "nbconvert_exporter": "python",
   "pygments_lexer": "ipython3",
   "version": "3.11.5"
  }
 },
 "nbformat": 4,
 "nbformat_minor": 2
}
